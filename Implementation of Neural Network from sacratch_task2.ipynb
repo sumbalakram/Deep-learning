{
  "nbformat": 4,
  "nbformat_minor": 0,
  "metadata": {
    "kernelspec": {
      "display_name": "Python 3",
      "language": "python",
      "name": "python3"
    },
    "language_info": {
      "codemirror_mode": {
        "name": "ipython",
        "version": 3
      },
      "file_extension": ".py",
      "mimetype": "text/x-python",
      "name": "python",
      "nbconvert_exporter": "python",
      "pygments_lexer": "ipython3",
      "version": "3.7.3"
    },
    "colab": {
      "name": "MSDS20030_02_task2.ipynb",
      "provenance": [],
      "collapsed_sections": []
    }
  },
  "cells": [
    {
      "cell_type": "markdown",
      "metadata": {
        "id": "meatog7XDaMu"
      },
      "source": [
        "<h1><center>Deep Learning</center></h1>\n",
        "<h2><center>Assignment # 2</center></h2>\n",
        "<h3><center>Task # 2</center></h3>"
      ]
    },
    {
      "cell_type": "code",
      "metadata": {
        "id": "K8YiqhSBDaM0"
      },
      "source": [
        "# Include libraries which may use in implementation\n",
        "import numpy as np\n",
        "import random\n",
        "import sklearn.datasets as ds\n",
        "import matplotlib.pyplot as plt\n",
        "%matplotlib inline\n",
        "import pickle\n"
      ],
      "execution_count": null,
      "outputs": []
    },
    {
      "cell_type": "code",
      "metadata": {
        "id": "dfWlIT9dDaM2"
      },
      "source": [
        "# Create a Neural_Network class\n",
        "class Neural_Network(object):        \n",
        "    def __init__(self,inputSize = 2,hiddenlayer = 3,outputSize = 1, activation_function='sigmoid'):       \n",
        "        # size of layers\n",
        "        self.inputSize = inputSize\n",
        "        self.outputSize = outputSize \n",
        "        self.hiddenLayer = hiddenlayer\n",
        "        #weights\n",
        "        self.W1 = np.random.rand(inputSize+1, hiddenlayer) # randomly initialize W1 using random function of numpy\n",
        "        # size of the wieght will be (inputSize +1, hiddenlayer) that +1 is for bias    \n",
        "        self.W2 = np.random.rand(hiddenlayer+1, outputSize) # randomly initialize W2 using random function of numpy\n",
        "        # size of the wieght will be (hiddenlayer +1, outputSize) that +1 is for bias\n",
        "\n",
        "        if activation_function == 'sigmoid':\n",
        "            self.activation = self.sigmoid\n",
        "            self.activationDerivative = self.sigmoid_derivative\n",
        "        if activation_function == 'relu':\n",
        "            self.activation = self.relu\n",
        "            self.activationDerivative = self.reluDerivative\n",
        "        if activation_function == 'tanh':\n",
        "            self.activation = self.tanh\n",
        "            self.activationDerivative = self.tanh_derivative     \n",
        "        \n",
        "    def one_to_x(self, X):\n",
        "    # stack vector of 1 to X\n",
        "        return np.hstack((np.ones((X.shape[0],1)),X)) # Stack arrays in sequence horizontally (column wise)\n",
        "\n",
        "    def feedforward(self, X):\n",
        "        #forward propagation through our network\n",
        "        \n",
        "        #Hidden Layer\n",
        "        self.Z1 = np.dot(self.one_to_x(X), self.W1) # dot product of X (input) and set of weights    \n",
        "        self.A1 = self.activation(self.Z1) # apply activation function (i.e. whatever function was passed in initialization)\n",
        "        \n",
        "        #Output Layer\n",
        "        self.Z2 = np.dot(self.one_to_x(self.A1), self.W2)\n",
        "        self.A2 = self.sigmoid(self.Z2)\n",
        "        return self.A2 # return your answer with as a final output of the network\n",
        "        \n",
        "\n",
        "    def sigmoid(self, s):\n",
        "        # activation function\n",
        "        return 1/(1+np.exp(-s)) # apply sigmoid function on s and return it's value\n",
        "\n",
        "    def sigmoid_derivative(self, s):\n",
        "        #derivative of sigmoid\n",
        "        return s*(1-s) # apply derivative of sigmoid on s and return it's value \n",
        "    \n",
        "    def tanh(self, s):\n",
        "        # activation function\n",
        "        return np.tanh(s) # apply tanh function on s and return it's value\n",
        "\n",
        "    def tanh_derivative(self, s):\n",
        "        #derivative of tanh\n",
        "        return 1-np.tanh(s)**2 # apply derivative of tanh on s and return it's value\n",
        "    \n",
        "    def relu(self, s):\n",
        "        # activation function\n",
        "        return np.maximum(0, s) # apply relu function on s and return it's value\n",
        "\n",
        "    def reluDerivative(self, s):\n",
        "        s[s<=0] = 0\n",
        "        s[s>0] = 1\n",
        "        return s\n",
        "\n",
        "    def backwardpropagate(self,X, Y, y_pred, lr):\n",
        "        # backward propagate through the network\n",
        "        dcd_A2 = self.crossentropy_derivative(Y, y_pred)\n",
        "        dA2_Z2 = self.sigmoid_derivative(y_pred) # compute error in output which is loss compute cross entropy loss function\n",
        "        dcd_Z2 = dcd_A2*dA2_Z2\n",
        "\n",
        "        d_W2 = np.dot(self.one_to_x(self.A1).T, dcd_Z2)\n",
        "        \n",
        "        d_A1 = np.dot(dcd_Z2, self.W2.T)\n",
        "        d_A1 = d_A1[:,:-1]\n",
        "        dcd_Z1 = d_A1*self.activationDerivative(self.Z1) # applying derivative of that applied activation function to the error\n",
        "        d_W1 = np.dot(self.one_to_x(X).T, dcd_Z1)\n",
        "        # adjust set of weights\n",
        "        self.W1 = self.W1 -lr*d_W1\n",
        "        self.W2 = self.W2 -lr*d_W2\n",
        "    \n",
        "    def crossentropy(self, Y, Y_pred):\n",
        "        # compute error based on crossentropy loss \n",
        "        return (1/Y_pred.shape[0])*np.sum(-1*np.multiply(Y, np.log(Y_pred+ 1e-5)) - np.multiply((1-Y), np.log(1-Y_pred+ 1e-5))) #error\n",
        "\n",
        "    def crossentropy_derivative(self, Y, Y_pred):\n",
        "        #derivative of crossentropy\n",
        "        return np.divide(Y_pred-Y, Y_pred*(1-Y_pred)) \n",
        "\n",
        "    def train(self, trainX, trainY,epochs = 100, learningRate = 0.001, plot_err = True ,validationX = None, validationY = None):\n",
        "    \n",
        "        valid_available = validationX is not None and validationY is not None\n",
        "        trainY = trainY.reshape(trainY.shape[0], 1)\n",
        "     \n",
        "        if valid_available:\n",
        "            validationY = validationY.reshape(validationY.shape[0], 1)\n",
        "  \n",
        "        # plot error of the model if plot_err is true\n",
        "        validation_loss =[]  \n",
        "        validation_accuracy =[]  \n",
        "        training_loss = []\n",
        "        training_accuracy = []\n",
        "\n",
        "        # feed forward trainX and trainY and recivce predicted value\n",
        "        for epoch in range(epochs):\n",
        "          y_pred = self.feedforward(trainX)\n",
        "          self.backwardpropagate(trainX, trainY, y_pred, learningRate)   # backpropagation with trainX, trainY, predicted value and learning rate.\n",
        "          train_loss = self.crossentropy(y_pred,trainY)\n",
        "          training_loss.append(train_loss)\n",
        "          train_accuracy = self.accuracy(trainX, trainY)\n",
        "          training_accuracy.append(train_accuracy)\n",
        "          print('Epoch: {} -> training_loss:{:.4f}, Accuracy {:.4f}'.format(epoch, train_loss,train_accuracy))\n",
        "\n",
        "          # if validationX and validationY are not null than show validation accuracy and error of the model by printing values.\n",
        "          if validationX is not None and validationY is not None:\n",
        "             val_pred = self.feedforward(validationX)\n",
        "              # validation loss calculation\n",
        "             val_loss = self.crossentropy(val_pred,validationY)\n",
        "             val_accuracy = self.accuracy(validationX, validationY)\n",
        "             validation_loss.append(val_loss)\n",
        "             validation_accuracy.append(val_accuracy)\n",
        "             print('Epoch: {} -> validation_loss:{:.4f}, Accuracy {:.4f}'.format(epoch, val_loss,val_accuracy))\n",
        "\n",
        "        # plot error of the model if plot_err is true\n",
        "        if plot_err:\n",
        "          # loss curves\n",
        "          plt.figure(figsize=(8,4))\n",
        "          plt.title(\"Training and Validation Loss\")\n",
        "          plt.plot(validation_loss,label=\"val\")\n",
        "          plt.plot(training_loss,label=\"train\")\n",
        "          plt.xlabel(\"iterations\")\n",
        "          plt.ylabel(\"Loss\")\n",
        "          plt.legend()\n",
        "          plt.show()\n",
        "\n",
        "          # accuracy curves\n",
        "          plt.figure(figsize=(8,4))\n",
        "          plt.title(\"Training and Validation Accuracy\")\n",
        "          plt.plot(validation_accuracy,label=\"val\")\n",
        "          plt.plot(training_accuracy,label=\"train\")\n",
        "          plt.xlabel(\"iterations\")\n",
        "          plt.ylabel(\"Accuracy\")\n",
        "          plt.legend()\n",
        "          plt.show() \n",
        "\n",
        "    def predict(self, testX):\n",
        "        # predict the value of testX\n",
        "        return self.feedforward(testX)\n",
        "    \n",
        "    def accuracy(self, testX, testY):\n",
        "        \n",
        "        testY = testY.reshape(testY.shape[0], -1)\n",
        "        \n",
        "        prediction = self.predict(testX)\n",
        "        \n",
        "        prediction[prediction>=0.5] = 1\n",
        "        prediction[prediction<0.5] = 0\n",
        "        accu = np.mean(prediction==testY)\n",
        "        # predict the value of trainX\n",
        "        # compare it with testY\n",
        "        # compute accuracy, print it and show in the form of picture\n",
        "        return accu # return accuracy \n",
        "        \n",
        "    def save(self,name):\n",
        "        # save your trained model, it is your interpretation how, which and what data you store\n",
        "        # which you will use later for prediction\n",
        "        with open(name, 'wb') as file:\n",
        "            pickle.dump((self.W1, self.W2, self.activation, self.activationDerivative), file)\n",
        "        \n",
        "    def load(self,name):\n",
        "        # load your trained model, load exactly how you stored it.\n",
        "        with open(name, 'rb') as file:\n",
        "            self.W1, self.W2, self.activation, self.activationDerivative = pickle.load(file)\n",
        "\n",
        "    \n"
      ],
      "execution_count": null,
      "outputs": []
    },
    {
      "cell_type": "code",
      "metadata": {
        "colab": {
          "base_uri": "https://localhost:8080/",
          "height": 265
        },
        "id": "vMZXkfEqDaM5",
        "outputId": "84367e4c-902b-4398-91a1-cd90dc16471f"
      },
      "source": [
        "data, label = ds.make_circles(n_samples=1000, factor=.4, noise=0.05)\n",
        "\n",
        "#Lets visualize the dataset\n",
        "reds = label == 0\n",
        "blues = label == 1\n",
        "plt.scatter(data[reds, 0], data[reds, 1], c=\"red\", s=20, edgecolor='k')\n",
        "plt.scatter(data[blues, 0], data[blues, 1], c=\"blue\", s=20, edgecolor='k')\n",
        "plt.show()\n"
      ],
      "execution_count": null,
      "outputs": [
        {
          "output_type": "display_data",
          "data": {
            "image/png": "[encoded data removed]",
            "text/plain": [
              "<Figure size 432x288 with 1 Axes>"
            ]
          },
          "metadata": {
            "tags": [],
            "needs_background": "light"
          }
        }
      ]
    },
    {
      "cell_type": "code",
      "metadata": {
        "id": "toEZQDsTDaM8"
      },
      "source": [
        "import sklearn \n",
        "from sklearn.model_selection import train_test_split\n",
        "\n",
        "#Note: shuffle this dataset before dividing it into three parts\n",
        "\n",
        "random_seed= 42\n",
        "indices = list(range(data.shape[0]))\n",
        "\n",
        "np.random.seed(random_seed)\n",
        "np.random.shuffle(indices)\n",
        "\n",
        "# Distribute this data into three parts i.e. training, validation and testing\n",
        "\n",
        "trainX, testX, trainY, testY = train_test_split(data, label, test_size=0.2) # split data into train and test\n",
        "trainX, validX, trainY, validY = train_test_split(trainX, trainY, test_size=0.2) # split train data into validation and training\n"
      ],
      "execution_count": null,
      "outputs": []
    },
    {
      "cell_type": "code",
      "metadata": {
        "id": "Lrt1I_rKDaM9"
      },
      "source": [
        "model = Neural_Network(2, 5, 1, 'relu')\n",
        "# try different combinations of epochs and learning rate\n",
        "model.train(trainX, trainY, epochs = 100, learningRate = 0.005, validationX = validX, validationY = validY)"
      ],
      "execution_count": null,
      "outputs": []
    },
    {
      "cell_type": "code",
      "metadata": {
        "id": "n38waLEvDaM-"
      },
      "source": [
        "#save the best model which you have trained, \n",
        "model.save('bestmodeltask2.mdl')"
      ],
      "execution_count": null,
      "outputs": []
    },
    {
      "cell_type": "markdown",
      "metadata": {
        "id": "8QFGmMhfDaM-"
      },
      "source": [
        "#### Note: This below section will be used for the evaluation of this task, we need your model and we will run script below to evaluated your model"
      ]
    },
    {
      "cell_type": "code",
      "metadata": {
        "colab": {
          "base_uri": "https://localhost:8080/"
        },
        "id": "pPMm-O3YDaNA",
        "outputId": "13d40060-7cc2-42cb-f005-7ab3d9116ac6"
      },
      "source": [
        "# create class object\n",
        "mm = Neural_Network()\n",
        "# load model which will be provided by you\n",
        "mm.load('bestmodeltask2.mdl')\n",
        "# check accuracy of that model\n",
        "mm.accuracy(testX,testY)\n",
        "\n",
        "\n"
      ],
      "execution_count": null,
      "outputs": [
        {
          "output_type": "execute_result",
          "data": {
            "text/plain": [
              "1.0"
            ]
          },
          "metadata": {
            "tags": []
          },
          "execution_count": 122
        }
      ]
    }
  ]
}