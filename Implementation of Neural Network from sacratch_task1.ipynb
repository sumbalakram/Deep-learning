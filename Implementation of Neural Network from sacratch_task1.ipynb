{
  "nbformat": 4,
  "nbformat_minor": 0,
  "metadata": {
    "colab": {
      "name": "MSDS20030_02_task1.ipynb",
      "provenance": [],
      "collapsed_sections": []
    },
    "kernelspec": {
      "display_name": "Python 3",
      "language": "python",
      "name": "python3"
    },
    "language_info": {
      "codemirror_mode": {
        "name": "ipython",
        "version": 3
      },
      "file_extension": ".py",
      "mimetype": "text/x-python",
      "name": "python",
      "nbconvert_exporter": "python",
      "pygments_lexer": "ipython3",
      "version": "3.7.3"
    }
  },
  "cells": [
    {
      "cell_type": "markdown",
      "metadata": {
        "id": "P25qui0XtZ1-"
      },
      "source": [
        "<h1><center>Deep Learning</center></h1>\n",
        "<h2><center>Assignment # 2</center></h2>\n",
        "<h3><center>Task # 1</center></h3>"
      ]
    },
    {
      "cell_type": "code",
      "metadata": {
        "id": "HI_HaI6-tZ2E"
      },
      "source": [
        "# Include libraries which may use in implementation\n",
        "import numpy as np\n",
        "import random\n",
        "import matplotlib.pyplot as plt\n",
        "import pickle\n",
        "%matplotlib inline\n",
        "import sklearn \n",
        "from sklearn.model_selection import train_test_split"
      ],
      "execution_count": null,
      "outputs": []
    },
    {
      "cell_type": "code",
      "metadata": {
        "id": "8p5dTiRmtZ2F"
      },
      "source": [
        "# Create a Neural_Network class\n",
        "class Neural_Network(object):    \n",
        "    def __init__(self,inputSize = 2,outputSize = 1 ):        \n",
        "        # size of layers\n",
        "        self.inputSize = inputSize\n",
        "        self.outputSize = outputSize   \n",
        "        # randomly initialize W1 using random function of numpy\n",
        "        self.W1 = np.random.rand(inputSize +1, outputSize)  # size of the weight will be (inputSize +1, outputSize) that +1 is for bias \n",
        "       \n",
        "        \n",
        "        \n",
        "\n",
        "    def one_to_x(self, X):\n",
        "    # stack vector of 1 to X\n",
        "        return np.hstack((np.ones((X.shape[0],1)),X)) # Stack arrays in sequence horizontally (column wise)\n",
        "\n",
        "    def feedforward(self, X):\n",
        "        #forward propagation through our network\n",
        "        # dot product of X (input) and set of weights\n",
        "        # apply activation function (i.e. sigmoid)\n",
        "        z = np.dot(self.one_to_x(X), self.W1)\n",
        "        self.activation = self.sigmoid(z)\n",
        "        return self.activation\n",
        "\n",
        "\n",
        "    def sigmoid(self, s):\n",
        "        # activation function\n",
        "        return 1 / (1 + np.exp(-s))\n",
        "\n",
        "    def sigmoid_derivative(self, s):\n",
        "        #derivative of sigmoid\n",
        "        return s * (1 - s)\n",
        "\n",
        "    def crossentropy_derivative(self, Y, Y_pred):\n",
        "        #derivative of crossentropy\n",
        "        return np.divide(Y_pred-Y, Y_pred*(1-Y_pred))  \n",
        "\n",
        "    def backwardpropagate(self,X, Y, y_pred, lr):\n",
        "        \n",
        "        # backward propagate through the network\n",
        "        # derivative w.r.t y_pred\n",
        "        e = self.crossentropy_derivative(Y, y_pred)\n",
        "        # derivative w.r.t sigmoid\n",
        "        d = self.sigmoid_derivative(y_pred)\n",
        "        # chain rule to get derivative w.r.t weight vector\n",
        "        gradient = np.dot(self.one_to_x(X).T, e*d)     \n",
        "        # gradient descent to adjust set of weights\n",
        "        self.W1 = self.W1 - lr*gradient\n",
        "    \n",
        "    def crossentropy(self, Y, Y_pred):\n",
        "        return (1/Y_pred.shape[0])*np.sum(-1*np.multiply(Y, np.log(Y_pred+ 1e-5)) - np.multiply((1-Y), np.log(1-Y_pred+ 1e-5)))\n",
        "\n",
        "\n",
        "    def train(self, trainX, trainY,epochs = 100, learningRate = 0.001, plot_err = True ,validationX = None, validationY = None):\n",
        "    \n",
        "        valid_available = validationX is not None and validationY is not None\n",
        "        trainY = trainY.reshape(trainY.shape[0], 1)\n",
        "     \n",
        "        if valid_available:\n",
        "            validationY = validationY.reshape(validationY.shape[0], 1)\n",
        "  \n",
        "        # plot error of the model if plot_err is true\n",
        "        validation_loss =[]  \n",
        "        validation_accuracy =[]  \n",
        "        training_loss = []\n",
        "        training_accuracy = []\n",
        "\n",
        "        # feed forward trainX and trainY and recivce predicted value\n",
        "        for epoch in range(epochs):\n",
        "          y_pred = self.feedforward(trainX)\n",
        "          self.backwardpropagate(trainX, trainY, y_pred, learningRate)   # backpropagation with trainX, trainY, predicted value and learning rate.\n",
        "          train_loss = self.crossentropy(y_pred,trainY)\n",
        "          training_loss.append(train_loss)\n",
        "          train_accuracy = self.accuracy(trainX, trainY)\n",
        "          training_accuracy.append(train_accuracy)\n",
        "          print('Epoch: {} -> training_loss:{:.4f}, Accuracy {:.4f}'.format(epoch, train_loss,train_accuracy))\n",
        "\n",
        "          # if validationX and validationY are not null than show validation accuracy and error of the model by printing values.\n",
        "          if validationX is not None and validationY is not None:\n",
        "             val_pred = self.feedforward(validationX)\n",
        "              # validation loss calculation\n",
        "             val_loss = self.crossentropy(val_pred,validationY)\n",
        "             val_accuracy = self.accuracy(validationX, validationY)\n",
        "             validation_loss.append(val_loss)\n",
        "             validation_accuracy.append(val_accuracy)\n",
        "             print('Epoch: {} -> validation_loss:{:.4f}, Accuracy {:.4f}'.format(epoch, val_loss,val_accuracy))\n",
        "\n",
        "        # plot error of the model if plot_err is true\n",
        "        if plot_err:\n",
        "          # loss curves\n",
        "          plt.figure(figsize=(8,4))\n",
        "          plt.title(\"Training and Validation Loss\")\n",
        "          plt.plot(validation_loss,label=\"val\")\n",
        "          plt.plot(training_loss,label=\"train\")\n",
        "          plt.xlabel(\"iterations\")\n",
        "          plt.ylabel(\"Loss\")\n",
        "          plt.legend()\n",
        "          plt.show()\n",
        "\n",
        "          # accuracy curves\n",
        "          plt.figure(figsize=(8,4))\n",
        "          plt.title(\"Training and Validation Accuracy\")\n",
        "          plt.plot(validation_accuracy,label=\"val\")\n",
        "          plt.plot(training_accuracy,label=\"train\")\n",
        "          plt.xlabel(\"iterations\")\n",
        "          plt.ylabel(\"Accuracy\")\n",
        "          plt.legend()\n",
        "          plt.show() \n",
        "\n",
        "    def predict(self, testX):\n",
        "        # predict the value of testX\n",
        "        return self.feedforward(testX)\n",
        "    \n",
        "    def accuracy(self, testX, testY):\n",
        "        \n",
        "        testY = testY.reshape(testY.shape[0], -1)\n",
        "        \n",
        "        prediction = self.predict(testX)\n",
        "        \n",
        "        prediction[prediction>=0.5] = 1\n",
        "        prediction[prediction<0.5] = 0\n",
        "        accu = np.mean(prediction==testY)\n",
        "        # predict the value of trainX\n",
        "        # compare it with testY\n",
        "        # compute accuracy, print it and show in the form of picture\n",
        "        return accu # return accuracy \n",
        "        \n",
        "    def saveModel(self,name):\n",
        "        # save your trained model, it is your interpretation how, which and what data you store\n",
        "        # which you will use later for prediction\n",
        "        with open(name, 'wb') as file:\n",
        "            pickle.dump(self.W1, file)\n",
        "        \n",
        "    def loadModel(self,name):\n",
        "        # load your trained model, load exactly how you stored it.\n",
        "        with open(name, 'rb') as file:\n",
        "            self.W1 = pickle.load(file)\n",
        "    \n"
      ],
      "execution_count": null,
      "outputs": []
    },
    {
      "cell_type": "code",
      "metadata": {
        "colab": {
          "base_uri": "https://localhost:8080/",
          "height": 279
        },
        "id": "O2cnO9KLtZ2F",
        "outputId": "c4fe1948-d8f1-4992-ca5d-f6c5a9705fcf"
      },
      "source": [
        "# generating dataset point\n",
        "np.random.seed(1)\n",
        "no_of_samples = 2000\n",
        "dims = 2\n",
        "#Generating random points of values between 0 to 1\n",
        "class1=np.random.rand(no_of_samples,dims)\n",
        "#To add separability we will add a bias of 1.1\n",
        "class2=np.random.rand(no_of_samples,dims)+1.1\n",
        "class_1_label=np.array([1 for n in range(no_of_samples)])\n",
        "class_2_label=np.array([0 for n in range(no_of_samples)])\n",
        "#Lets visualize the dataset\n",
        "plt.scatter(class1[:,0],class1[:,1], marker='^', label=\"class 1\")\n",
        "plt.scatter(class2[:,0],class2[:,1], marker='o', label=\"class 2\")\n",
        "plt.xlabel('Dimension 1')\n",
        "plt.ylabel('Dimension 2')\n",
        "plt.legend(loc='best')\n",
        "plt.show()"
      ],
      "execution_count": null,
      "outputs": [
        {
          "output_type": "display_data",
          "data": {
            "image/png": "[encoded data removed]",
            "text/plain": [
              "<Figure size 432x288 with 1 Axes>"
            ]
          },
          "metadata": {
            "tags": [],
            "needs_background": "light"
          }
        }
      ]
    },
    {
      "cell_type": "code",
      "metadata": {
        "id": "QI4rSoYJtZ2G"
      },
      "source": [
        "import sklearn \n",
        "from sklearn.model_selection import train_test_split\n",
        "# Data concatenation\n",
        "data = np.concatenate((class1,class2),axis=0)\n",
        "label = np.concatenate((class_1_label,class_2_label),axis=0)\n",
        "\n",
        "random_seed= 42\n",
        "indices = list(range(data.shape[0]))\n",
        "\n",
        "np.random.seed(random_seed)\n",
        "np.random.shuffle(indices)\n",
        "\n",
        "# Distribute this data into three parts i.e. training, validation and testing\n",
        "\n",
        "trainX, testX, trainY, testY = train_test_split(data, label, test_size=0.2) # split data into train and test\n",
        "trainX, validX, trainY, validY = train_test_split(trainX, trainY, test_size=0.2) # split train data into validation and training\n",
        "\n",
        "\n"
      ],
      "execution_count": null,
      "outputs": []
    },
    {
      "cell_type": "code",
      "metadata": {
        "colab": {
          "base_uri": "https://localhost:8080/",
          "height": 1000
        },
        "id": "PEl68kfftZ2H",
        "outputId": "9036616c-d17e-4d56-887b-8495d50517c2"
      },
      "source": [
        "model = Neural_Network(2,1)\n",
        "# try different combinations of epochs and learning rate\n",
        "model.train(trainX, trainY, epochs = 100, learningRate = 0.001, validationX = validX, validationY = validY)"
      ],
      "execution_count": null,
      "outputs": [
        {
          "output_type": "stream",
          "text": [
            "Epoch: 0 -> training_loss:6.9975, Accuracy 0.5008\n",
            "Epoch: 0 -> validation_loss:4.8256, Accuracy 0.5062\n",
            "Epoch: 1 -> training_loss:4.8853, Accuracy 0.6770\n",
            "Epoch: 1 -> validation_loss:4.3423, Accuracy 0.6859\n",
            "Epoch: 2 -> training_loss:4.3915, Accuracy 0.8355\n",
            "Epoch: 2 -> validation_loss:3.9521, Accuracy 0.8359\n",
            "Epoch: 3 -> training_loss:4.0071, Accuracy 0.9051\n",
            "Epoch: 3 -> validation_loss:3.5977, Accuracy 0.9031\n",
            "Epoch: 4 -> training_loss:3.6573, Accuracy 0.9504\n",
            "Epoch: 4 -> validation_loss:3.3057, Accuracy 0.9422\n",
            "Epoch: 5 -> training_loss:3.3682, Accuracy 0.9629\n",
            "Epoch: 5 -> validation_loss:3.0497, Accuracy 0.9547\n",
            "Epoch: 6 -> training_loss:3.1141, Accuracy 0.9707\n",
            "Epoch: 6 -> validation_loss:2.8324, Accuracy 0.9672\n",
            "Epoch: 7 -> training_loss:2.8980, Accuracy 0.9789\n",
            "Epoch: 7 -> validation_loss:2.6434, Accuracy 0.9734\n",
            "Epoch: 8 -> training_loss:2.7095, Accuracy 0.9855\n",
            "Epoch: 8 -> validation_loss:2.4793, Accuracy 0.9766\n",
            "Epoch: 9 -> training_loss:2.5455, Accuracy 0.9883\n",
            "Epoch: 9 -> validation_loss:2.3353, Accuracy 0.9844\n",
            "Epoch: 10 -> training_loss:2.4014, Accuracy 0.9910\n",
            "Epoch: 10 -> validation_loss:2.2083, Accuracy 0.9906\n",
            "Epoch: 11 -> training_loss:2.2740, Accuracy 0.9934\n",
            "Epoch: 11 -> validation_loss:2.0955, Accuracy 0.9922\n",
            "Epoch: 12 -> training_loss:2.1606, Accuracy 0.9957\n",
            "Epoch: 12 -> validation_loss:1.9947, Accuracy 0.9922\n",
            "Epoch: 13 -> training_loss:2.0592, Accuracy 0.9969\n",
            "Epoch: 13 -> validation_loss:1.9041, Accuracy 0.9953\n",
            "Epoch: 14 -> training_loss:1.9679, Accuracy 0.9973\n",
            "Epoch: 14 -> validation_loss:1.8223, Accuracy 0.9953\n",
            "Epoch: 15 -> training_loss:1.8853, Accuracy 0.9977\n",
            "Epoch: 15 -> validation_loss:1.7481, Accuracy 0.9969\n",
            "Epoch: 16 -> training_loss:1.8103, Accuracy 0.9980\n",
            "Epoch: 16 -> validation_loss:1.6804, Accuracy 0.9969\n",
            "Epoch: 17 -> training_loss:1.7418, Accuracy 0.9980\n",
            "Epoch: 17 -> validation_loss:1.6184, Accuracy 0.9969\n",
            "Epoch: 18 -> training_loss:1.6790, Accuracy 0.9988\n",
            "Epoch: 18 -> validation_loss:1.5614, Accuracy 0.9969\n",
            "Epoch: 19 -> training_loss:1.6213, Accuracy 0.9992\n",
            "Epoch: 19 -> validation_loss:1.5089, Accuracy 0.9969\n",
            "Epoch: 20 -> training_loss:1.5680, Accuracy 0.9992\n",
            "Epoch: 20 -> validation_loss:1.4603, Accuracy 0.9984\n",
            "Epoch: 21 -> training_loss:1.5186, Accuracy 0.9996\n",
            "Epoch: 21 -> validation_loss:1.4152, Accuracy 0.9984\n",
            "Epoch: 22 -> training_loss:1.4727, Accuracy 1.0000\n",
            "Epoch: 22 -> validation_loss:1.3733, Accuracy 0.9984\n",
            "Epoch: 23 -> training_loss:1.4300, Accuracy 1.0000\n",
            "Epoch: 23 -> validation_loss:1.3341, Accuracy 0.9984\n",
            "Epoch: 24 -> training_loss:1.3901, Accuracy 1.0000\n",
            "Epoch: 24 -> validation_loss:1.2975, Accuracy 0.9984\n",
            "Epoch: 25 -> training_loss:1.3527, Accuracy 1.0000\n",
            "Epoch: 25 -> validation_loss:1.2632, Accuracy 0.9984\n",
            "Epoch: 26 -> training_loss:1.3177, Accuracy 1.0000\n",
            "Epoch: 26 -> validation_loss:1.2309, Accuracy 0.9984\n",
            "Epoch: 27 -> training_loss:1.2847, Accuracy 1.0000\n",
            "Epoch: 27 -> validation_loss:1.2005, Accuracy 1.0000\n",
            "Epoch: 28 -> training_loss:1.2536, Accuracy 1.0000\n",
            "Epoch: 28 -> validation_loss:1.1719, Accuracy 1.0000\n",
            "Epoch: 29 -> training_loss:1.2243, Accuracy 1.0000\n",
            "Epoch: 29 -> validation_loss:1.1448, Accuracy 1.0000\n",
            "Epoch: 30 -> training_loss:1.1966, Accuracy 1.0000\n",
            "Epoch: 30 -> validation_loss:1.1191, Accuracy 1.0000\n",
            "Epoch: 31 -> training_loss:1.1703, Accuracy 1.0000\n",
            "Epoch: 31 -> validation_loss:1.0948, Accuracy 1.0000\n",
            "Epoch: 32 -> training_loss:1.1454, Accuracy 1.0000\n",
            "Epoch: 32 -> validation_loss:1.0717, Accuracy 1.0000\n",
            "Epoch: 33 -> training_loss:1.1217, Accuracy 1.0000\n",
            "Epoch: 33 -> validation_loss:1.0498, Accuracy 1.0000\n",
            "Epoch: 34 -> training_loss:1.0992, Accuracy 1.0000\n",
            "Epoch: 34 -> validation_loss:1.0289, Accuracy 1.0000\n",
            "Epoch: 35 -> training_loss:1.0777, Accuracy 1.0000\n",
            "Epoch: 35 -> validation_loss:1.0090, Accuracy 1.0000\n",
            "Epoch: 36 -> training_loss:1.0572, Accuracy 1.0000\n",
            "Epoch: 36 -> validation_loss:0.9900, Accuracy 1.0000\n",
            "Epoch: 37 -> training_loss:1.0377, Accuracy 1.0000\n",
            "Epoch: 37 -> validation_loss:0.9718, Accuracy 1.0000\n",
            "Epoch: 38 -> training_loss:1.0190, Accuracy 1.0000\n",
            "Epoch: 38 -> validation_loss:0.9544, Accuracy 1.0000\n",
            "Epoch: 39 -> training_loss:1.0010, Accuracy 1.0000\n",
            "Epoch: 39 -> validation_loss:0.9377, Accuracy 1.0000\n",
            "Epoch: 40 -> training_loss:0.9839, Accuracy 1.0000\n",
            "Epoch: 40 -> validation_loss:0.9217, Accuracy 1.0000\n",
            "Epoch: 41 -> training_loss:0.9674, Accuracy 1.0000\n",
            "Epoch: 41 -> validation_loss:0.9064, Accuracy 1.0000\n",
            "Epoch: 42 -> training_loss:0.9516, Accuracy 1.0000\n",
            "Epoch: 42 -> validation_loss:0.8917, Accuracy 1.0000\n",
            "Epoch: 43 -> training_loss:0.9364, Accuracy 1.0000\n",
            "Epoch: 43 -> validation_loss:0.8775, Accuracy 1.0000\n",
            "Epoch: 44 -> training_loss:0.9218, Accuracy 1.0000\n",
            "Epoch: 44 -> validation_loss:0.8639, Accuracy 1.0000\n",
            "Epoch: 45 -> training_loss:0.9077, Accuracy 1.0000\n",
            "Epoch: 45 -> validation_loss:0.8508, Accuracy 1.0000\n",
            "Epoch: 46 -> training_loss:0.8942, Accuracy 1.0000\n",
            "Epoch: 46 -> validation_loss:0.8381, Accuracy 1.0000\n",
            "Epoch: 47 -> training_loss:0.8811, Accuracy 1.0000\n",
            "Epoch: 47 -> validation_loss:0.8259, Accuracy 1.0000\n",
            "Epoch: 48 -> training_loss:0.8685, Accuracy 1.0000\n",
            "Epoch: 48 -> validation_loss:0.8142, Accuracy 1.0000\n",
            "Epoch: 49 -> training_loss:0.8563, Accuracy 1.0000\n",
            "Epoch: 49 -> validation_loss:0.8028, Accuracy 1.0000\n",
            "Epoch: 50 -> training_loss:0.8446, Accuracy 1.0000\n",
            "Epoch: 50 -> validation_loss:0.7918, Accuracy 1.0000\n",
            "Epoch: 51 -> training_loss:0.8332, Accuracy 1.0000\n",
            "Epoch: 51 -> validation_loss:0.7812, Accuracy 1.0000\n",
            "Epoch: 52 -> training_loss:0.8222, Accuracy 1.0000\n",
            "Epoch: 52 -> validation_loss:0.7709, Accuracy 1.0000\n",
            "Epoch: 53 -> training_loss:0.8115, Accuracy 1.0000\n",
            "Epoch: 53 -> validation_loss:0.7609, Accuracy 1.0000\n",
            "Epoch: 54 -> training_loss:0.8012, Accuracy 1.0000\n",
            "Epoch: 54 -> validation_loss:0.7513, Accuracy 1.0000\n",
            "Epoch: 55 -> training_loss:0.7912, Accuracy 1.0000\n",
            "Epoch: 55 -> validation_loss:0.7419, Accuracy 1.0000\n",
            "Epoch: 56 -> training_loss:0.7815, Accuracy 1.0000\n",
            "Epoch: 56 -> validation_loss:0.7328, Accuracy 1.0000\n",
            "Epoch: 57 -> training_loss:0.7721, Accuracy 1.0000\n",
            "Epoch: 57 -> validation_loss:0.7240, Accuracy 1.0000\n",
            "Epoch: 58 -> training_loss:0.7629, Accuracy 1.0000\n",
            "Epoch: 58 -> validation_loss:0.7155, Accuracy 1.0000\n",
            "Epoch: 59 -> training_loss:0.7540, Accuracy 1.0000\n",
            "Epoch: 59 -> validation_loss:0.7071, Accuracy 1.0000\n",
            "Epoch: 60 -> training_loss:0.7454, Accuracy 1.0000\n",
            "Epoch: 60 -> validation_loss:0.6991, Accuracy 1.0000\n",
            "Epoch: 61 -> training_loss:0.7370, Accuracy 1.0000\n",
            "Epoch: 61 -> validation_loss:0.6912, Accuracy 1.0000\n",
            "Epoch: 62 -> training_loss:0.7289, Accuracy 1.0000\n",
            "Epoch: 62 -> validation_loss:0.6836, Accuracy 1.0000\n",
            "Epoch: 63 -> training_loss:0.7209, Accuracy 1.0000\n",
            "Epoch: 63 -> validation_loss:0.6761, Accuracy 1.0000\n",
            "Epoch: 64 -> training_loss:0.7132, Accuracy 1.0000\n",
            "Epoch: 64 -> validation_loss:0.6689, Accuracy 1.0000\n",
            "Epoch: 65 -> training_loss:0.7057, Accuracy 1.0000\n",
            "Epoch: 65 -> validation_loss:0.6619, Accuracy 1.0000\n",
            "Epoch: 66 -> training_loss:0.6983, Accuracy 1.0000\n",
            "Epoch: 66 -> validation_loss:0.6550, Accuracy 1.0000\n",
            "Epoch: 67 -> training_loss:0.6912, Accuracy 1.0000\n",
            "Epoch: 67 -> validation_loss:0.6483, Accuracy 1.0000\n",
            "Epoch: 68 -> training_loss:0.6842, Accuracy 1.0000\n",
            "Epoch: 68 -> validation_loss:0.6418, Accuracy 1.0000\n",
            "Epoch: 69 -> training_loss:0.6774, Accuracy 1.0000\n",
            "Epoch: 69 -> validation_loss:0.6354, Accuracy 1.0000\n",
            "Epoch: 70 -> training_loss:0.6708, Accuracy 1.0000\n",
            "Epoch: 70 -> validation_loss:0.6292, Accuracy 1.0000\n",
            "Epoch: 71 -> training_loss:0.6643, Accuracy 1.0000\n",
            "Epoch: 71 -> validation_loss:0.6231, Accuracy 1.0000\n",
            "Epoch: 72 -> training_loss:0.6580, Accuracy 1.0000\n",
            "Epoch: 72 -> validation_loss:0.6172, Accuracy 1.0000\n",
            "Epoch: 73 -> training_loss:0.6518, Accuracy 1.0000\n",
            "Epoch: 73 -> validation_loss:0.6114, Accuracy 1.0000\n",
            "Epoch: 74 -> training_loss:0.6458, Accuracy 1.0000\n",
            "Epoch: 74 -> validation_loss:0.6058, Accuracy 1.0000\n",
            "Epoch: 75 -> training_loss:0.6399, Accuracy 1.0000\n",
            "Epoch: 75 -> validation_loss:0.6002, Accuracy 1.0000\n",
            "Epoch: 76 -> training_loss:0.6341, Accuracy 1.0000\n",
            "Epoch: 76 -> validation_loss:0.5948, Accuracy 1.0000\n",
            "Epoch: 77 -> training_loss:0.6285, Accuracy 1.0000\n",
            "Epoch: 77 -> validation_loss:0.5896, Accuracy 1.0000\n",
            "Epoch: 78 -> training_loss:0.6230, Accuracy 1.0000\n",
            "Epoch: 78 -> validation_loss:0.5844, Accuracy 1.0000\n",
            "Epoch: 79 -> training_loss:0.6176, Accuracy 1.0000\n",
            "Epoch: 79 -> validation_loss:0.5793, Accuracy 1.0000\n",
            "Epoch: 80 -> training_loss:0.6123, Accuracy 1.0000\n",
            "Epoch: 80 -> validation_loss:0.5744, Accuracy 1.0000\n",
            "Epoch: 81 -> training_loss:0.6072, Accuracy 1.0000\n",
            "Epoch: 81 -> validation_loss:0.5696, Accuracy 1.0000\n",
            "Epoch: 82 -> training_loss:0.6021, Accuracy 1.0000\n",
            "Epoch: 82 -> validation_loss:0.5648, Accuracy 1.0000\n",
            "Epoch: 83 -> training_loss:0.5971, Accuracy 1.0000\n",
            "Epoch: 83 -> validation_loss:0.5602, Accuracy 1.0000\n",
            "Epoch: 84 -> training_loss:0.5923, Accuracy 1.0000\n",
            "Epoch: 84 -> validation_loss:0.5556, Accuracy 1.0000\n",
            "Epoch: 85 -> training_loss:0.5875, Accuracy 1.0000\n",
            "Epoch: 85 -> validation_loss:0.5512, Accuracy 1.0000\n",
            "Epoch: 86 -> training_loss:0.5829, Accuracy 1.0000\n",
            "Epoch: 86 -> validation_loss:0.5468, Accuracy 1.0000\n",
            "Epoch: 87 -> training_loss:0.5783, Accuracy 1.0000\n",
            "Epoch: 87 -> validation_loss:0.5425, Accuracy 1.0000\n",
            "Epoch: 88 -> training_loss:0.5738, Accuracy 1.0000\n",
            "Epoch: 88 -> validation_loss:0.5383, Accuracy 1.0000\n",
            "Epoch: 89 -> training_loss:0.5694, Accuracy 1.0000\n",
            "Epoch: 89 -> validation_loss:0.5342, Accuracy 1.0000\n",
            "Epoch: 90 -> training_loss:0.5651, Accuracy 1.0000\n",
            "Epoch: 90 -> validation_loss:0.5301, Accuracy 1.0000\n",
            "Epoch: 91 -> training_loss:0.5608, Accuracy 1.0000\n",
            "Epoch: 91 -> validation_loss:0.5262, Accuracy 1.0000\n",
            "Epoch: 92 -> training_loss:0.5567, Accuracy 1.0000\n",
            "Epoch: 92 -> validation_loss:0.5223, Accuracy 1.0000\n",
            "Epoch: 93 -> training_loss:0.5526, Accuracy 1.0000\n",
            "Epoch: 93 -> validation_loss:0.5184, Accuracy 1.0000\n",
            "Epoch: 94 -> training_loss:0.5486, Accuracy 1.0000\n",
            "Epoch: 94 -> validation_loss:0.5147, Accuracy 1.0000\n",
            "Epoch: 95 -> training_loss:0.5447, Accuracy 1.0000\n",
            "Epoch: 95 -> validation_loss:0.5110, Accuracy 1.0000\n",
            "Epoch: 96 -> training_loss:0.5408, Accuracy 1.0000\n",
            "Epoch: 96 -> validation_loss:0.5074, Accuracy 1.0000\n",
            "Epoch: 97 -> training_loss:0.5370, Accuracy 1.0000\n",
            "Epoch: 97 -> validation_loss:0.5038, Accuracy 1.0000\n",
            "Epoch: 98 -> training_loss:0.5333, Accuracy 1.0000\n",
            "Epoch: 98 -> validation_loss:0.5003, Accuracy 1.0000\n",
            "Epoch: 99 -> training_loss:0.5296, Accuracy 1.0000\n",
            "Epoch: 99 -> validation_loss:0.4969, Accuracy 1.0000\n"
          ],
          "name": "stdout"
        },
        {
          "output_type": "display_data",
          "data": {
            "image/png": "[encoded data removed]",
            "text/plain": [
              "<Figure size 576x288 with 1 Axes>"
            ]
          },
          "metadata": {
            "tags": [],
            "needs_background": "light"
          }
        },
        {
          "output_type": "display_data",
          "data": {
            "image/png": "[encoded data removed]",
            "text/plain": [
              "<Figure size 576x288 with 1 Axes>"
            ]
          },
          "metadata": {
            "tags": [],
            "needs_background": "light"
          }
        }
      ]
    },
    {
      "cell_type": "code",
      "metadata": {
        "id": "YyPck_KGtZ2H"
      },
      "source": [
        "#save the best model which you have trained, \n",
        "model.saveModel('bestmodeltask1.mdl')"
      ],
      "execution_count": null,
      "outputs": []
    },
    {
      "cell_type": "markdown",
      "metadata": {
        "id": "DY_EkZHXtZ2H"
      },
      "source": [
        "#### Note: This below section will be used for the evaluation of this task, we need your model and we will run script below to evaluated your model"
      ]
    },
    {
      "cell_type": "code",
      "metadata": {
        "id": "dCG1S7HstZ2I",
        "colab": {
          "base_uri": "https://localhost:8080/"
        },
        "outputId": "fae328c5-96dd-4e77-aaaa-e5be93d7a405"
      },
      "source": [
        "# create class object\n",
        "mm = Neural_Network()\n",
        "# load model which will be provided by you\n",
        "mm.loadModel('bestmodeltask1.mdl')\n",
        "# check accuracy of that model\n",
        "mm.accuracy(testX,testY)\n",
        "\n",
        "\n"
      ],
      "execution_count": null,
      "outputs": [
        {
          "output_type": "execute_result",
          "data": {
            "text/plain": [
              "1.0"
            ]
          },
          "metadata": {
            "tags": []
          },
          "execution_count": 250
        }
      ]
    }
  ]
}