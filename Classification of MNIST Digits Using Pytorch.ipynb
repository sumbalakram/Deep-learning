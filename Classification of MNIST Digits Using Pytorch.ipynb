{
  "nbformat": 4,
  "nbformat_minor": 0,
  "metadata": {
    "accelerator": "GPU",
    "colab": {
      "name": "MSDS20030_HW1.ipynb",
      "provenance": [],
      "collapsed_sections": []
    },
    "kernelspec": {
      "display_name": "Python 3",
      "language": "python",
      "name": "python3"
    },
    "language_info": {
      "codemirror_mode": {
        "name": "ipython",
        "version": 3
      },
      "file_extension": ".py",
      "mimetype": "text/x-python",
      "name": "python",
      "nbconvert_exporter": "python",
      "pygments_lexer": "ipython3",
      "version": "3.7.3"
    }
  },
  "cells": [
    {
      "cell_type": "code",
      "metadata": {
        "id": "ILEhkZDdANAn"
      },
      "source": [
        "import matplotlib.pyplot as plt\n",
        "from torch.autograd import Variable\n",
        "import torch\n",
        "from time import time\n",
        "from torch import nn\n",
        "from torch import optim\n",
        "import torch.nn.functional as F\n",
        "from torchvision import datasets, transforms, models\n",
        "from torchvision.datasets import ImageFolder\n",
        "from torch.utils.data import Subset\n",
        "from sklearn.model_selection import train_test_split\n",
        "from torchvision.transforms import Compose, ToTensor, Resize\n",
        "from torch.utils.data import DataLoader\n",
        "import numpy as np\n",
        "import pandas as pd\n",
        "from sklearn.metrics import accuracy_score\n",
        "from sklearn.metrics import f1_score\n",
        "from sklearn.metrics import confusion_matrix"
      ],
      "execution_count": 955,
      "outputs": []
    },
    {
      "cell_type": "code",
      "metadata": {
        "colab": {
          "base_uri": "https://localhost:8080/"
        },
        "id": "VJncZ78jKGhQ",
        "outputId": "dc384bda-b092-4f9b-c3ea-19179d189f9d"
      },
      "source": [
        "from google.colab import drive # import google drive as a folder to colab environment\n",
        "drive.mount('/content/drive', force_remount=True)"
      ],
      "execution_count": 956,
      "outputs": [
        {
          "output_type": "stream",
          "text": [
            "Mounted at /content/drive\n"
          ],
          "name": "stdout"
        }
      ]
    },
    {
      "cell_type": "code",
      "metadata": {
        "id": "314QAapXMiqn"
      },
      "source": [
        "#!unzip '/content/drive/MyDrive/MNIST_Data.zip'"
      ],
      "execution_count": 957,
      "outputs": []
    },
    {
      "cell_type": "markdown",
      "metadata": {
        "id": "VCXEIqzwWo1Y"
      },
      "source": [
        "# Functions:"
      ]
    },
    {
      "cell_type": "code",
      "metadata": {
        "id": "wuoo4czaWmeE"
      },
      "source": [
        "def train_val_dataset(dataset, val_split=0.4):\n",
        "    train_data, val_data = train_test_split(list(range(len(dataset))), test_size=val_split)\n",
        "    train_dataset = Subset(dataset, train_data)\n",
        "    val_dataset = Subset(dataset, val_data)\n",
        "    return train_dataset , val_dataset"
      ],
      "execution_count": 958,
      "outputs": []
    },
    {
      "cell_type": "markdown",
      "metadata": {
        "id": "GKLkjHI_BpZb"
      },
      "source": [
        "## Tranforms and Dataloader\n",
        ">*Code in the cell below loads dataset so that we can train model on it and test our trained model. First two statements define tranforms to transform our dataset. Images are of size(28 * 28) and normalized and converted to pytorch tensors.Image folder is loaded using ImageFolder Object and then it is passed as argument to Dataloader Object to load data at run time.*\n",
        "\n",
        "\n",
        "\n",
        "\n"
      ]
    },
    {
      "cell_type": "code",
      "metadata": {
        "id": "cWUUUmoUKKFa"
      },
      "source": [
        "def dataset_load(transforms,batch):\n",
        "  # Loading Datasets using ImageFolder\n",
        "  train_dataset = ImageFolder('/content/train' , transform=transforms) \n",
        "  print(len(train_dataset), 'Original Train Data')\n",
        "  test_dataset = ImageFolder('/content/test' , transform=transforms)\n",
        "  print(len(test_dataset) , \"Length of Test Data\")\n",
        "\n",
        "  # Train_Validation_Split\n",
        "  train_data , val_data = train_val_dataset(train_dataset)\n",
        "\n",
        "  print(len(train_data), \"Length of Training Data\")\n",
        "  print(len(val_data), \"Length of Validation Data\")\n",
        "\n",
        "  # Train and Test dataloaders\n",
        "  train_loader = torch.utils.data.DataLoader(train_data, batch_size=batch, shuffle=True)\n",
        "  val_loader = torch.utils.data.DataLoader(val_data, batch_size=batch, shuffle=True)\n",
        "  test_loader = torch.utils.data.DataLoader(test_dataset, batch_size=batch, shuffle=True)\n",
        "  print(len(train_loader), len(val_loader), len(test_loader))\n",
        "  \n",
        "  return train_loader,val_loader,test_loader"
      ],
      "execution_count": 959,
      "outputs": []
    },
    {
      "cell_type": "markdown",
      "metadata": {
        "id": "z0mT4EAmBpZf"
      },
      "source": [
        "##Neural Network\n",
        "*This cell defines our dynamic neural network.Forward function is compulsery to implement if we are extending nn.Module class. It specify's what happens to the input image. Relu is used as non-linearity in this case.*\n"
      ]
    },
    {
      "cell_type": "code",
      "metadata": {
        "id": "y3tQtohZ0mtS"
      },
      "source": [
        "class Network(nn.Module):\n",
        "    def __init__(self,no_of_layers, input_dim, neurons_per_layer, dropout):\n",
        "        super(Network, self).__init__()\n",
        "        self.hidden = []\n",
        "        self.layers = no_of_layers\n",
        "\n",
        "        for i in range(self.layers):\n",
        "               if i == 0:\n",
        "                 self.hidden.append(nn.Linear(input_dim, neurons_per_layer[i]))                \n",
        "\n",
        "               else:\n",
        "                 self.hidden.append(nn.Linear(neurons_per_layer[i-1], neurons_per_layer[i]))\n",
        "                 input_dim = neurons_per_layer[i]\n",
        "\n",
        "                 \n",
        "        self.hidden = nn.ModuleList(self.hidden)\n",
        "        self.final = nn.Linear(input_dim , neurons_per_layer[-1])\n",
        "        self.dropout = nn.Dropout(dropout)\n",
        "  \n",
        "    def forward(self, x): \n",
        "      for i in range(self.layers):\n",
        "           x = F.relu(self.hidden[i](x))\n",
        "      \n",
        "      x = self.dropout(x)\n",
        "      x = F.log_softmax(self.final(x),dim = 1)\n",
        "      return x\n"
      ],
      "execution_count": 960,
      "outputs": []
    },
    {
      "cell_type": "markdown",
      "metadata": {
        "id": "sjBhJuBjBpZh"
      },
      "source": [
        "In this function we create object of Network class and specify learning rate and number of epochs. "
      ]
    },
    {
      "cell_type": "code",
      "metadata": {
        "id": "UDmomokK1FwQ"
      },
      "source": [
        "def init_network(no_of_layers, input_dim, neurons_per_layer,dropout,device):\n",
        "  model = Network(no_of_layers, input_dim, neurons_per_layer,dropout)\n",
        "  model.to(device)\n",
        "  return model\n",
        "\n"
      ],
      "execution_count": 961,
      "outputs": []
    },
    {
      "cell_type": "markdown",
      "metadata": {
        "id": "iCsR791SBpZk"
      },
      "source": [
        "## Train the Network\n",
        "In this cell we choose optimizer and loss function. We are using stochastic gradient descent as our optimizer and cross entropy loss as our loss function.\n",
        "\n",
        "Training neural network is done in multiple steps. After extracting data and target from the train loader, we assign them to the device. "
      ]
    },
    {
      "cell_type": "code",
      "metadata": {
        "id": "VkE0qG2s83xV"
      },
      "source": [
        "def train(net, train_loader, val_loader,learning_rate, training_epochs, loss_func, optimizer, device):\n",
        "  time0 = time()\n",
        "  #optimizer = torch.optim.SGD(net.parameters(), lr=learning_rate, momentum=0.9)\n",
        "  train_loss, val_loss=[],[]\n",
        "  train_acc, val_acc=[],[]\n",
        "  for epoch in range(training_epochs):\n",
        "    t_loss=0\n",
        "    t_correct = 0\n",
        "    for batch_idx, (data, target) in enumerate(train_loader):\n",
        "        data, target = Variable(data), Variable(target)\n",
        "        data, target = data.to(device), target.to(device)        \n",
        "        data = data.view(-1, 784)\n",
        "        optimizer.zero_grad()\n",
        "        net_out = model(data)\n",
        "        loss = loss_func(net_out, target)\n",
        "        loss.backward()\n",
        "        optimizer.step()\n",
        "        t_loss += loss.item()\n",
        "        pred = net_out.data.max(1)[1]  # get the index of the max log-probability\n",
        "        t_correct += pred.eq(target.data).sum()\n",
        "        \n",
        "            \n",
        "    train_loss.append(t_loss/len(train_loader.dataset))\n",
        "    train_acc.append(t_correct/len(train_loader.dataset))\n",
        "   \n",
        "    print(\"------------------------------------------------------------------------------------------------\")\n",
        "    print('Epoch: ', epoch)\n",
        "    print('Training Loss:', t_loss / len(train_loader.dataset)) \n",
        "    print(\"Training Accuracy:\", 100. * t_correct.item() / len(train_loader.dataset) )\n",
        "    print(\"------------------------------------------------------------------------------------------------\") \n",
        "     \n",
        "    v_loss=0\n",
        "    v_correct=0\n",
        "\n",
        "    for batch_idx, (data, target) in enumerate(val_loader):\n",
        "        data, target = Variable(data), Variable(target)\n",
        "        data, target = data.to(device), target.to(device)        \n",
        "        data = data.view(-1, 784)\n",
        "        net_out = model(data)\n",
        "        loss = loss_func(net_out, target)\n",
        "        v_loss += loss.item()\n",
        "        pred = net_out.data.max(1)[1]  # get the index of the max log-probability\n",
        "        v_correct += pred.eq(target.data).sum() \n",
        "\n",
        "    val_loss.append(v_loss/len(val_loader.dataset))\n",
        "    val_acc.append(v_correct/len(val_loader.dataset))\n",
        "    print(\"------------------------------------------------------------------------------------------------\")\n",
        "    print('Epoch: ', epoch)\n",
        "    print('Validation Loss:', t_loss / len(val_loader.dataset)) \n",
        "    print(\"Validation Accuracy:\", 100. * v_correct.item() / len(val_loader.dataset) )\n",
        "    print(\"------------------------------------------------------------------------------------------------\") \n",
        "  \n",
        "  # average test loss\n",
        "  t_loss = t_loss/len(train_loader.dataset)\n",
        "  print('Train Loss: {:.6f}\\n'.format(t_loss))\n",
        "  \n",
        "  print('\\nTrain set: Average loss: {:.4f}, Accuracy: {}/{} ({:.0f}%)\\n'.format(t_loss, t_correct, len(train_loader.dataset),100. * t_correct / len(train_loader.dataset)))\n",
        "  print(\"\\nTraining Time (in minutes) =\",(time()-time0)/60)\n",
        "  return net, train_loss, train_acc, val_loss, val_acc"
      ],
      "execution_count": 962,
      "outputs": []
    },
    {
      "cell_type": "code",
      "metadata": {
        "id": "jABdG_tJlv7l"
      },
      "source": [
        "def save_network(path , model):\n",
        "  torch.save(model.state_dict(), path)"
      ],
      "execution_count": 963,
      "outputs": []
    },
    {
      "cell_type": "code",
      "metadata": {
        "id": "22c1np3WmlyT"
      },
      "source": [
        "def load_network(path, model):\n",
        "  model.load_state_dict(torch.load(path))\n"
      ],
      "execution_count": 964,
      "outputs": []
    },
    {
      "cell_type": "markdown",
      "metadata": {
        "id": "GMk08i57i-VC"
      },
      "source": [
        "# Test Network"
      ]
    },
    {
      "cell_type": "code",
      "metadata": {
        "id": "MV0JkB4IJCHS"
      },
      "source": [
        "def test(model, device, test_loader):\n",
        "    model.eval()\n",
        "    actuals = []\n",
        "    predictions = []\n",
        "    class_correct=[0]*10\n",
        "    class_total=[0]*10\n",
        "    test_accuracy=[]\n",
        "    test_loss=[]\n",
        "    t_loss =0\n",
        "    correct=0\n",
        "    with torch.no_grad():\n",
        "        for batch_idx, (data, target) in enumerate(test_loader):\n",
        "            data, target = Variable(data), Variable(target)\n",
        "            data, target = data.to(device), target.to(device)\n",
        "            data = data.view(-1, 784)\n",
        "            net_out = model(data)\n",
        "            loss = loss_func(net_out, target)\n",
        "            \n",
        "            pred=net_out.data.max(1)[1]\n",
        "            correct_tensor = pred.eq(target.data.view_as(pred))\n",
        "            correct = np.squeeze(correct_tensor.numpy()) if device == \"cpu\" else np.squeeze(correct_tensor.cpu().numpy())\n",
        "                 \n",
        "            for i in range(target.size(0)):\n",
        "                \n",
        "                label = target.data[i]\n",
        "                class_correct[label] += correct[i].item()\n",
        "                class_total[label] += 1\n",
        "                #Statistics\n",
        "            prediction = net_out.argmax(dim=1)\n",
        "            actuals.extend(target.view_as(prediction))\n",
        "            predictions.extend(prediction)\n",
        "        \n",
        "        for i in range(10):\n",
        "              t_loss += loss.item()\n",
        "              test_loss.append(t_loss / len(test_loader.dataset))\n",
        "              test_accuracy.append(100 * class_correct[i] / class_total[i])\n",
        "\n",
        "        \n",
        "        \n",
        "        print('\\nTest Accuracy (Overall): %2d%% (%2d/%2d)' % (100. * np.sum(class_correct) / np.sum(class_total), np.sum(class_correct), np.sum(class_total)))\n",
        "        \n",
        "    \n",
        "    return [i.item() for i in actuals], [i.item() for i in predictions], test_accuracy, test_loss\n",
        "    \n",
        "    "
      ],
      "execution_count": 965,
      "outputs": []
    },
    {
      "cell_type": "code",
      "metadata": {
        "id": "tiEyoXEj4e1K"
      },
      "source": [
        "def conf(actuals, predictions):\n",
        "  print('---------------------------F1 & Accuracy Score--------------------------\\n')\n",
        "  \n",
        "  print('Testing f1 score: %f' % f1_score(actuals, predictions, average='weighted'))\n",
        "  print('Testing accuracy score: %f' % accuracy_score(actuals, predictions))\n",
        "\n",
        "  print('------------------------Confusion matrix----------------------------------')\n",
        "  import seaborn as sns\n",
        "  plt.figure(figsize=(10,9))\n",
        "  ax = sns.heatmap(confusion_matrix(actuals, predictions), annot=True, vmax=20)\n",
        "  ax.set_xlabel('Predicted')\n",
        "  ax.set_ylabel('True')\n",
        "  plt.show()\n",
        "  \n",
        "\n"
      ],
      "execution_count": 966,
      "outputs": []
    },
    {
      "cell_type": "markdown",
      "metadata": {
        "id": "XGt1ykWUjIKN"
      },
      "source": [
        "# Visualizations"
      ]
    },
    {
      "cell_type": "code",
      "metadata": {
        "id": "15Fdf_jW8xaI"
      },
      "source": [
        "def train_vitualization(train_loss,train_accuracy,val_loss,val_accuracy):\n",
        "\n",
        "  plt.figure(figsize=(3,3))\n",
        "  plt.title(\"Plot the resulting loss over time\") \n",
        "  plt.plot(train_loss, label='Training Loss')\n",
        "  plt.plot(val_loss, label='Validation Loss')\n",
        "  plt.legend()\n",
        "  plt.show()\n",
        "\n",
        "  plt.figure(figsize=(3,3))\n",
        "  plt.title(\"Plot the Resulting Acuracy over time\")\n",
        "  plt.plot(train_accuracy, label='Training Accuracy')\n",
        "  plt.plot(val_accuracy, label='Validation Accuracy')\n",
        "  plt.legend()\n",
        "  plt.show()\n",
        "\n",
        "def test_vitualization(actuals,predictions,test_accuracy,test_loss):\n",
        "  \n",
        "  plt.figure(figsize=(3,3))\n",
        "  plt.title(\"Plot the Testing Loss over time\\n\")\n",
        "  plt.plot(test_loss, label='Test Loss')\n",
        "  plt.show()\n",
        "\n",
        "  plt.figure(figsize=(3,3))\n",
        "  plt.title(\"Plot the Testing Acuracy over time\")\n",
        "  plt.plot(test_accuracy, label='Test Accuracy')\n",
        "  plt.show()\n",
        "\n",
        "  conf(actuals,predictions)\n"
      ],
      "execution_count": 967,
      "outputs": []
    },
    {
      "cell_type": "markdown",
      "metadata": {
        "id": "c9QQDN2CjPgO"
      },
      "source": [
        "# Classification"
      ]
    },
    {
      "cell_type": "code",
      "metadata": {
        "id": "D4GfzOLYT0TK"
      },
      "source": [
        "def classify(img, ps):\n",
        "    ''' \n",
        "    Function for viewing an image and it's predicted classes.\n",
        "    '''\n",
        "    ps = ps.cpu().data.numpy().squeeze()\n",
        "\n",
        "    fig, (ax1, ax2) = plt.subplots(figsize=(6,9), ncols=2)\n",
        "    ax1.imshow(img.resize_(1, 28, 28).numpy().squeeze())\n",
        "    ax1.axis('off')\n",
        "    ax2.barh(np.arange(10), ps)\n",
        "    ax2.set_aspect(0.1)\n",
        "    ax2.set_yticks(np.arange(10))\n",
        "    ax2.set_yticklabels(np.arange(10))\n",
        "    ax2.set_title('Class Probability')\n",
        "    ax2.set_xlim(0, 1.1)\n",
        "    plt.tight_layout()"
      ],
      "execution_count": 968,
      "outputs": []
    },
    {
      "cell_type": "code",
      "metadata": {
        "id": "g2Nq6Om4T_LR"
      },
      "source": [
        "def image_predict(model, test_loader):\n",
        "   images, labels = next(iter(test_loader))\n",
        "   # replace trainloader to check training accuracy.\n",
        "\n",
        "   img = images[0].view(1, 784)\n",
        "   # Turn off gradients to speed up this part\n",
        "   with torch.no_grad():\n",
        "       logpb = model(img.cuda())\n",
        "\n",
        "   # Output of the network are log-probabilities, need to take exponential for probabilities\n",
        "   pb = torch.exp(logpb)\n",
        "   probab = list(pb.cpu().numpy()[0])\n",
        "   print(\"Predicted Digit =\", probab.index(max(probab)))\n",
        "   classify(img.view(1, 28, 28), pb)"
      ],
      "execution_count": 969,
      "outputs": []
    },
    {
      "cell_type": "code",
      "metadata": {
        "colab": {
          "base_uri": "https://localhost:8080/",
          "height": 1000
        },
        "id": "E6DlQp6rsj3o",
        "outputId": "54bf1c5c-6005-40b3-c690-fd146368c455"
      },
      "source": [
        "training_size=60000\n",
        "test_size=10000\n",
        "no_of_layers = 3\n",
        "input_dim = 784\n",
        "neurons_per_layer = [256,128,64,10]\n",
        "dropout=0.2\n",
        "learning_rate=0.001\n",
        "training_epoch=15\n",
        "batch_size=64\n",
        "training = True\n",
        "# this statement tell our code if there gpu available on our machine or not.\n",
        "device = torch.device('cuda' if torch.cuda.is_available() else 'cpu')\n",
        "\n",
        "transforms = transforms.Compose([transforms.Resize((28,28)), transforms.ToTensor(), transforms.Grayscale(), transforms.Normalize([0],[0.707])])\n",
        "\n",
        "train_loader,val_loader,test_loader = dataset_load(transforms,batch_size)\n",
        "\n",
        "model = init_network(no_of_layers, input_dim, neurons_per_layer,dropout,device)\n",
        "\n",
        "optimizer = torch.optim.SGD(model.parameters(), lr=learning_rate, momentum=0.9)\n",
        "loss_func = nn.NLLLoss()\n",
        "\n",
        "if training==True:\n",
        "\n",
        "  model, train_loss, train_accuracy, val_loss, val_accuracy  = train(model, train_loader, val_loader,learning_rate, training_epoch ,loss_func, optimizer, device)\n",
        "  save_network(\"Model.pt\", model) \n",
        "  train_vitualization(train_loss, train_accuracy, val_loss, val_accuracy)\n",
        "else:\n",
        "  load_network(\"Model.pt\",model)\n",
        "  actuals, predictions, test_accuracy,test_loss = test(model, device, test_loader)\n",
        "  test_vitualization(actuals,predictions,test_accuracy,test_loss) \n",
        "  \n",
        "  print(\"------------------------------------------------------------------------------\")\n",
        "  print(\"--------------------------Image Classification--------------------------------\")\n",
        "  image_predict(model, test_loader)"
      ],
      "execution_count": 970,
      "outputs": [
        {
          "output_type": "stream",
          "text": [
            "60000 Original Train Data\n",
            "10000 Length of Test Data\n",
            "36000 Length of Training Data\n",
            "24000 Length of Validation Data\n",
            "563 375 157\n",
            "------------------------------------------------------------------------------------------------\n",
            "Epoch:  0\n",
            "Training Loss: 0.03508706757095125\n",
            "Training Accuracy: 26.858333333333334\n",
            "------------------------------------------------------------------------------------------------\n",
            "------------------------------------------------------------------------------------------------\n",
            "Epoch:  0\n",
            "Validation Loss: 0.05263060135642687\n",
            "Validation Accuracy: 49.94166666666667\n",
            "------------------------------------------------------------------------------------------------\n",
            "------------------------------------------------------------------------------------------------\n",
            "Epoch:  1\n",
            "Training Loss: 0.021744899324244924\n",
            "Training Accuracy: 60.705555555555556\n",
            "------------------------------------------------------------------------------------------------\n",
            "------------------------------------------------------------------------------------------------\n",
            "Epoch:  1\n",
            "Validation Loss: 0.03261734898636739\n",
            "Validation Accuracy: 73.62916666666666\n",
            "------------------------------------------------------------------------------------------------\n",
            "------------------------------------------------------------------------------------------------\n",
            "Epoch:  2\n",
            "Training Loss: 0.010526171351472536\n",
            "Training Accuracy: 79.48055555555555\n",
            "------------------------------------------------------------------------------------------------\n",
            "------------------------------------------------------------------------------------------------\n",
            "Epoch:  2\n",
            "Validation Loss: 0.015789257027208806\n",
            "Validation Accuracy: 83.17916666666666\n",
            "------------------------------------------------------------------------------------------------\n",
            "------------------------------------------------------------------------------------------------\n",
            "Epoch:  3\n",
            "Training Loss: 0.007690375544130802\n",
            "Training Accuracy: 85.45555555555555\n",
            "------------------------------------------------------------------------------------------------\n",
            "------------------------------------------------------------------------------------------------\n",
            "Epoch:  3\n",
            "Validation Loss: 0.011535563316196203\n",
            "Validation Accuracy: 86.1625\n",
            "------------------------------------------------------------------------------------------------\n",
            "------------------------------------------------------------------------------------------------\n",
            "Epoch:  4\n",
            "Training Loss: 0.006664257331026925\n",
            "Training Accuracy: 87.56666666666666\n",
            "------------------------------------------------------------------------------------------------\n",
            "------------------------------------------------------------------------------------------------\n",
            "Epoch:  4\n",
            "Validation Loss: 0.009996385996540387\n",
            "Validation Accuracy: 87.82916666666667\n",
            "------------------------------------------------------------------------------------------------\n",
            "------------------------------------------------------------------------------------------------\n",
            "Epoch:  5\n",
            "Training Loss: 0.0060319459359678956\n",
            "Training Accuracy: 88.81111111111112\n",
            "------------------------------------------------------------------------------------------------\n",
            "------------------------------------------------------------------------------------------------\n",
            "Epoch:  5\n",
            "Validation Loss: 0.009047918903951844\n",
            "Validation Accuracy: 88.9875\n",
            "------------------------------------------------------------------------------------------------\n",
            "------------------------------------------------------------------------------------------------\n",
            "Epoch:  6\n",
            "Training Loss: 0.0055963547031084694\n",
            "Training Accuracy: 89.69166666666666\n",
            "------------------------------------------------------------------------------------------------\n",
            "------------------------------------------------------------------------------------------------\n",
            "Epoch:  6\n",
            "Validation Loss: 0.008394532054662705\n",
            "Validation Accuracy: 89.54166666666667\n",
            "------------------------------------------------------------------------------------------------\n",
            "------------------------------------------------------------------------------------------------\n",
            "Epoch:  7\n",
            "Training Loss: 0.005183847414536608\n",
            "Training Accuracy: 90.51944444444445\n",
            "------------------------------------------------------------------------------------------------\n",
            "------------------------------------------------------------------------------------------------\n",
            "Epoch:  7\n",
            "Validation Loss: 0.007775771121804913\n",
            "Validation Accuracy: 90.45833333333333\n",
            "------------------------------------------------------------------------------------------------\n",
            "------------------------------------------------------------------------------------------------\n",
            "Epoch:  8\n",
            "Training Loss: 0.004809560910488168\n",
            "Training Accuracy: 91.06666666666666\n",
            "------------------------------------------------------------------------------------------------\n",
            "------------------------------------------------------------------------------------------------\n",
            "Epoch:  8\n",
            "Validation Loss: 0.007214341365732253\n",
            "Validation Accuracy: 90.925\n",
            "------------------------------------------------------------------------------------------------\n",
            "------------------------------------------------------------------------------------------------\n",
            "Epoch:  9\n",
            "Training Loss: 0.004539492581246628\n",
            "Training Accuracy: 91.59166666666667\n",
            "------------------------------------------------------------------------------------------------\n",
            "------------------------------------------------------------------------------------------------\n",
            "Epoch:  9\n",
            "Validation Loss: 0.006809238871869941\n",
            "Validation Accuracy: 91.60833333333333\n",
            "------------------------------------------------------------------------------------------------\n",
            "------------------------------------------------------------------------------------------------\n",
            "Epoch:  10\n",
            "Training Loss: 0.004192983126681712\n",
            "Training Accuracy: 92.39722222222223\n",
            "------------------------------------------------------------------------------------------------\n",
            "------------------------------------------------------------------------------------------------\n",
            "Epoch:  10\n",
            "Validation Loss: 0.0062894746900225675\n",
            "Validation Accuracy: 91.99166666666666\n",
            "------------------------------------------------------------------------------------------------\n",
            "------------------------------------------------------------------------------------------------\n",
            "Epoch:  11\n",
            "Training Loss: 0.0038979671001434326\n",
            "Training Accuracy: 92.9888888888889\n",
            "------------------------------------------------------------------------------------------------\n",
            "------------------------------------------------------------------------------------------------\n",
            "Epoch:  11\n",
            "Validation Loss: 0.005846950650215149\n",
            "Validation Accuracy: 92.4125\n",
            "------------------------------------------------------------------------------------------------\n",
            "------------------------------------------------------------------------------------------------\n",
            "Epoch:  12\n",
            "Training Loss: 0.003674305457621813\n",
            "Training Accuracy: 93.29722222222222\n",
            "------------------------------------------------------------------------------------------------\n",
            "------------------------------------------------------------------------------------------------\n",
            "Epoch:  12\n",
            "Validation Loss: 0.005511458186432719\n",
            "Validation Accuracy: 92.9125\n",
            "------------------------------------------------------------------------------------------------\n",
            "------------------------------------------------------------------------------------------------\n",
            "Epoch:  13\n",
            "Training Loss: 0.0034407379819701117\n",
            "Training Accuracy: 93.63055555555556\n",
            "------------------------------------------------------------------------------------------------\n",
            "------------------------------------------------------------------------------------------------\n",
            "Epoch:  13\n",
            "Validation Loss: 0.005161106972955167\n",
            "Validation Accuracy: 93.30416666666666\n",
            "------------------------------------------------------------------------------------------------\n",
            "------------------------------------------------------------------------------------------------\n",
            "Epoch:  14\n",
            "Training Loss: 0.003184638948490222\n",
            "Training Accuracy: 94.18888888888888\n",
            "------------------------------------------------------------------------------------------------\n",
            "------------------------------------------------------------------------------------------------\n",
            "Epoch:  14\n",
            "Validation Loss: 0.004776958422735333\n",
            "Validation Accuracy: 93.42083333333333\n",
            "------------------------------------------------------------------------------------------------\n",
            "Train Loss: 0.003185\n",
            "\n",
            "\n",
            "Train set: Average loss: 0.0032, Accuracy: 33908/36000 (94%)\n",
            "\n",
            "\n",
            "Training Time (in minutes) = 5.950918086369833\n"
          ],
          "name": "stdout"
        },
        {
          "output_type": "display_data",
          "data": {
            "image/png": "[encoded data removed]",
            "text/plain": [
              "<Figure size 216x216 with 1 Axes>"
            ]
          },
          "metadata": {
            "tags": [],
            "needs_background": "light"
          }
        },
        {
          "output_type": "display_data",
          "data": {
            "image/png": "[encoded data removed]",
            "text/plain": [
              "<Figure size 216x216 with 1 Axes>"
            ]
          },
          "metadata": {
            "tags": [],
            "needs_background": "light"
          }
        }
      ]
    }
  ]
}